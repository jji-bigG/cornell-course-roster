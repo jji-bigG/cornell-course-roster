{
 "cells": [
  {
   "cell_type": "markdown",
   "metadata": {},
   "source": [
    "### messy websites\n",
    "i found that those websites contain pretty much everything, but a lot of them are empty; meaning that even the cals.cornell.edu pages are unorganized. we should treat it as if we would have everything and give None to fields that are not present. For example, this link probably has everything: https://cals.cornell.edu/education/degrees-programs/agricultural-sciences-major\n",
    "\n",
    "there're also a lot of other url domains, which i should keep track of and decide whether to include that domain"
   ]
  },
  {
   "cell_type": "code",
   "execution_count": null,
   "metadata": {},
   "outputs": [],
   "source": []
  }
 ],
 "metadata": {
  "language_info": {
   "name": "python"
  }
 },
 "nbformat": 4,
 "nbformat_minor": 2
}
