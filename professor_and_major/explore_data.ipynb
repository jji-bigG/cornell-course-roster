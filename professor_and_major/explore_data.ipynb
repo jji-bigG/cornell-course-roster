{
 "cells": [
  {
   "cell_type": "code",
   "execution_count": 13,
   "metadata": {},
   "outputs": [
    {
     "data": {
      "text/plain": [
       "([{'link': '/news/virgin-galactic-successfully-makes-first-human-spaceflight-new-mexico',\n",
       "   'title': 'Virgin Galactic successfully makes first human spaceflight from New Mexico',\n",
       "   'image_url': None,\n",
       "   'date': '2021-05-22T12:00:00Z',\n",
       "   'subtitle': \"              Virgin Atlantic's VSS Unity SpaceShipTwo spacecraft carries with it an experimental space-based surgical system co-developed by Meinig School Prof. James Antaki and Dr. George Pantalos of University of Louisville.\\n\\n\\n      \\n      \"},\n",
       "  {'link': '/news/undergraduate-team-designs-shirt-detect-poor-posture-decrease-injuries',\n",
       "   'title': 'Undergraduate team designs shirt to detect poor posture, decrease injuries',\n",
       "   'image_url': None,\n",
       "   'date': '2021-05-20T12:00:00Z',\n",
       "   'subtitle': '              A conversation with a firefighter leads undergraduate biomedical device team to design wearable postural analysis system.\\n\\n\\n      \\n      '},\n",
       "  {'link': '            https://news.cornell.edu/stories/2020/06/infant-heart-assist-device-gets-new-life-47m-grant\\n      ',\n",
       "   'title': 'Infant heart-assist device gets new life with $4.7M grant',\n",
       "   'image_url': None,\n",
       "   'date': '2020-06-29T12:00:00Z',\n",
       "   'subtitle': '              After being defunded by a company with rights to its intellectual property, development of a pediatric heart-assist device has been revived at Cornell with the help of a $4.7 million defense...\\n\\n\\n      \\n      '}],\n",
       " 'James Francis Antaki')"
      ]
     },
     "execution_count": 13,
     "metadata": {},
     "output_type": "execute_result"
    }
   ],
   "source": [
    "# load in the first element in eng-prof-detail.json list\n",
    "import json\n",
    "import pyperclip\n",
    "\n",
    "with open('eng-prof-detail.json') as f:\n",
    "    data = json.load(f)\n",
    "\n",
    "# pyperclip.copy(data[0]['selected_publications'][0])\n",
    "i = 16\n",
    "data[i][\"in_the_news\"], data[i][\"prof_name\"]"
   ]
  }
 ],
 "metadata": {
  "kernelspec": {
   "display_name": "Python 3",
   "language": "python",
   "name": "python3"
  },
  "language_info": {
   "codemirror_mode": {
    "name": "ipython",
    "version": 3
   },
   "file_extension": ".py",
   "mimetype": "text/x-python",
   "name": "python",
   "nbconvert_exporter": "python",
   "pygments_lexer": "ipython3",
   "version": "3.11.9"
  }
 },
 "nbformat": 4,
 "nbformat_minor": 2
}
