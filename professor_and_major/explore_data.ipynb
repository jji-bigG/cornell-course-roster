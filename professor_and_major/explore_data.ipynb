{
 "cells": [
  {
   "cell_type": "code",
   "execution_count": 3,
   "metadata": {},
   "outputs": [
    {
     "data": {
      "text/plain": [
       "{'name': 'Nicholas L. Abbott',\n",
       " 'title': 'Tisch University Professor',\n",
       " 'departments': 'Chemistry and Chemical Biology',\n",
       " 'image_url': 'https://people.as.cornell.edu/files/second/styles/person_image/public/nicholas-l-abbott.jpg',\n",
       " 'sidebar_image_url': 'https://people.as.cornell.edu/files/second/styles/person_image/public/nicholas-l-abbott.jpg',\n",
       " 'location': 'Department of Chemical and Biomolecular Engineering, Cornell University',\n",
       " 'email': 'nla34@cornell.edu',\n",
       " 'phone': '607/2553601',\n",
       " 'education': ['Postdoc, Harvard University',\n",
       "  'PhD, Massachusetts Institute of Technology',\n",
       "  'BE, University of Adelaide, Australia'],\n",
       " 'departments_programs': ['Chemistry and Chemical Biology'],\n",
       " 'links': ['https://nlabbottcornell.weebly.com/'],\n",
       " 'content': {'Nicholas L. Abbott': [],\n",
       "  'Tisch University Professor': [],\n",
       "  'Overview': ['Research in the Abbott Lab interests revolve around colloidal and interfacial phenomena. They span fundamental issues related to the origins of colloidal interactions through to the application of chemically tailored interfaces in chemical and biological sensors, biomedical devices and separations processes.\\xa0His research group has designed and synthesized a range of surfactants that incorporate molecular triggers (redox-active and light-sensitive groups) that permit reversible control of surfactant-based properties of aqueous systems.\\xa0They are exploring their use in separations processes, solar energy harvesting devices, and for the delivery of biomolecules to cells.'],\n",
       "  'Education': ['PhD, Massachusetts Institute of Technology',\n",
       "   'BE, University of Adelaide, Australia',\n",
       "   'Postdoc, Harvard University'],\n",
       "  'Departments and programs': ['Chemistry and Chemical Biology'],\n",
       "  'Links': [' (https://nlabbottcornell.weebly.com/)'],\n",
       "  'For current students': [' (/student-services)',\n",
       "   ' (/advising)',\n",
       "   ' (/registrar)',\n",
       "   ' (/careers)',\n",
       "   ' (/about/student-advisory-council)',\n",
       "   ' (https://data.arts.cornell.edu/as-stus/degree_reqts.cfm)']},\n",
       " 'news_items': None}"
      ]
     },
     "execution_count": 3,
     "metadata": {},
     "output_type": "execute_result"
    }
   ],
   "source": [
    "# load in the first element in eng-prof-detail.json list\n",
    "import json\n",
    "import pyperclip\n",
    "\n",
    "with open('professor_details.json') as f:\n",
    "    data = json.load(f)\n",
    "\n",
    "# pyperclip.copy(data[0]['selected_publications'][0])\n",
    "# data[1][\"content\"][\"Overview\"], data[1][\"content\"]['Research Focus']\n",
    "data[1]"
   ]
  }
 ],
 "metadata": {
  "kernelspec": {
   "display_name": "Python 3",
   "language": "python",
   "name": "python3"
  },
  "language_info": {
   "codemirror_mode": {
    "name": "ipython",
    "version": 3
   },
   "file_extension": ".py",
   "mimetype": "text/x-python",
   "name": "python",
   "nbconvert_exporter": "python",
   "pygments_lexer": "ipython3",
   "version": "3.11.9"
  }
 },
 "nbformat": 4,
 "nbformat_minor": 2
}
