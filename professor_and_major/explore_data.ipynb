{
 "cells": [
  {
   "cell_type": "code",
   "execution_count": 6,
   "metadata": {},
   "outputs": [],
   "source": [
    "# load in the first element in eng-prof-detail.json list\n",
    "import json\n",
    "import pyperclip\n",
    "\n",
    "with open('professor_details.json') as f:\n",
    "    data = json.load(f)\n",
    "\n",
    "# pyperclip.copy(data[0]['selected_publications'][0])\n",
    "# data[0][\"content\"][\"Overview\"], data[0][\"content\"]['Research Focus']\n",
    "# data[1]"
   ]
  }
 ],
 "metadata": {
  "kernelspec": {
   "display_name": "Python 3",
   "language": "python",
   "name": "python3"
  },
  "language_info": {
   "codemirror_mode": {
    "name": "ipython",
    "version": 3
   },
   "file_extension": ".py",
   "mimetype": "text/x-python",
   "name": "python",
   "nbconvert_exporter": "python",
   "pygments_lexer": "ipython3",
   "version": "3.11.9"
  }
 },
 "nbformat": 4,
 "nbformat_minor": 2
}
