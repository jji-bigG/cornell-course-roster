{
 "cells": [
  {
   "cell_type": "code",
   "execution_count": null,
   "metadata": {},
   "outputs": [],
   "source": []
  },
  {
   "cell_type": "markdown",
   "metadata": {},
   "source": [
    "# Extracting insights from courses & majors\n",
    "\n",
    "same deal with professors, know what these descriptions and what not intends to tell you. What are the types of information that is contained in these scraped datas? \n",
    "\n",
    "- perceived prerequisites: what is actually needed to understand these. NOT the hard-written prerequisites list because that can be misleading and inaccurate, since some concepts are rarely used.\n",
    "- contents: what is taught in this course? \n",
    "- outcomes: What can you now achieve from taking this class that you previously cannot? How does this class benefit you in terms of academic & career & personal growth goals? How does it fit into the prerequisites chain? \n",
    "\n",
    "with these categories, we can prompt engineer our LLM to extract that.\n",
    "\n",
    "along with that job, i also want to batch in another task while we're at it:\n",
    "- hard written prerequisites: output as a list of course codes string is fine\n",
    "- distribution requirements: a list (multiselect) from a predefined set of distributions, rest is ignored.\n",
    "- combined with: output a list of course codes from the natural language input."
   ]
  },
  {
   "cell_type": "code",
   "execution_count": null,
   "metadata": {},
   "outputs": [],
   "source": [
    "EXTRACTION_COURSE_DESCRIPTION_PROMPT = \"\"\"\n",
    "### HARD_WRITTEN_PREREQUISITES\n",
    "{prereqs}\n",
    "\n",
    "### DESCRIPTION\n",
    "{description}\n",
    "#### said outcomes\n",
    "{outcomes}\n",
    "\n",
    "### OTHER INPUT INFORMATIONS\n",
    "combined_with: {combined_with}\n",
    "distribution_requirements: {distributions}\n",
    "\n",
    "### INSTRUCTION\n",
    "- perceived_prerequisites: what is actually needed to understand these. NOT the hard-written prerequisites list because that can be misleading and inaccurate, since some concepts are rarely used. output a list of short and concise string capturing everything. short sentences suffice\n",
    "- contents: what is taught in this course? output a list of short and concise string capturing everything. short sentences suffice\n",
    "- outcomes: What can you now achieve from taking this class that you previously cannot? How does this class benefit you in terms of academic & career & personal growth goals? How does it fit into the prerequisites chain? output a list of short and concise string capturing everything. short sentences suffice\n",
    "- hard_written_prerequisites: output as a list of course codes string is fine\n",
    "- distributions: a list (multiselect) from a predefined set of distributions, rest is ignored.\n",
    "- combined_with: output a list of course codes from the natural language input.\n",
    "\n",
    "### OUTPUT REQUIREMENTS\n",
    "DO NOT MAKE UP ANY INFORMATION.\n",
    "If there is not enough information to extract these information, output \"[]\" as an empty JSON list.\n",
    "JSON output must be compatible and must begin with {{ and end with }} so that python's json.loads can parse it.\n",
    "No escape character is needed for ', and wrap string with double quotes.\n",
    "\n",
    "### JSON DATA EXTRACTED (beginning with {{ and ending with }}):\n",
    "\"\"\""
   ]
  },
  {
   "cell_type": "code",
   "execution_count": null,
   "metadata": {},
   "outputs": [],
   "source": [
    "title = \"Object-Oriented Programming and Data Structures\""
   ]
  }
 ],
 "metadata": {
  "language_info": {
   "name": "python"
  }
 },
 "nbformat": 4,
 "nbformat_minor": 2
}
