{
 "cells": [
  {
   "cell_type": "code",
   "execution_count": 13,
   "metadata": {},
   "outputs": [],
   "source": [
    "import pandas as pd\n",
    "import sqlite3\n",
    "\n",
    "conn = sqlite3.connect(\"roster_reviews.sqlite.db\")\n",
    "\n",
    "course_descriptions_df = pd.read_sql_query(\"SELECT * FROM course_descriptions\", conn)\n",
    "courses_df = pd.read_sql_query(\"SELECT * FROM courses\", conn)\n",
    "\n",
    "# c = conn.cursor()\n",
    "# res = c.execute(\"SELECT * FROM course_descriptions\").fetchall()\n",
    "\n",
    "conn.close()\n",
    "\n",
    "from openai import AsyncOpenAI\n",
    "import json\n",
    "\n",
    "\n",
    "client = AsyncOpenAI(\n",
    "    base_url=\"http://101.35.52.226:9090/v1\",\n",
    "    api_key='api-key',\n",
    "    timeout=45,\n",
    ")\n",
    "\n",
    "\n",
    "async def chat(prompt, stream=False, temperature=0.0, n=1):\n",
    "    response = await client.chat.completions.create(\n",
    "        model=\"qwen-110b-chat\",\n",
    "        messages=[{\"role\": \"user\", \"content\": prompt}],\n",
    "        stream=stream,\n",
    "        max_tokens=512,\n",
    "        temperature=temperature,\n",
    "        n=n,\n",
    "        stop=[\"<|endoftext|>\", \"<|im_end|>\"],\n",
    "    )\n",
    "    if not stream:\n",
    "        if n == 1:\n",
    "            return response.choices[0].message.content.strip()\n",
    "        return response.choices\n",
    "    return response"
   ]
  },
  {
   "cell_type": "markdown",
   "metadata": {},
   "source": [
    "# Extracting insights from courses & majors\n",
    "\n",
    "same deal with professors, know what these descriptions and what not intends to tell you. What are the types of information that is contained in these scraped datas? \n",
    "\n",
    "- perceived prerequisites: what is actually needed to understand these. NOT the hard-written prerequisites list because that can be misleading and inaccurate, since some concepts are rarely used.\n",
    "- contents: what is taught in this course? \n",
    "- outcomes: What can you now achieve from taking this class that you previously cannot? How does this class benefit you in terms of academic & career & personal growth goals? How does it fit into the prerequisites chain? \n",
    "\n",
    "with these categories, we can prompt engineer our LLM to extract that.\n",
    "\n",
    "along with that job, i also want to batch in another task while we're at it:\n",
    "- hard written prerequisites: output as a list of course codes string is fine\n",
    "- distribution requirements: a list (multiselect) from a predefined set of distributions, rest is ignored.\n",
    "- combined with: output a list of course codes from the natural language input."
   ]
  },
  {
   "cell_type": "code",
   "execution_count": 47,
   "metadata": {},
   "outputs": [],
   "source": [
    "EXTRACTION_COURSE_DESCRIPTION_PROMPT = \"\"\"\n",
    "### COURSE TITLE: {title}\n",
    "\n",
    "### HARD_WRITTEN_PREREQUISITES\n",
    "{prereqs}\n",
    "\n",
    "### DESCRIPTION\n",
    "{description}\n",
    "IF NO DESCRIPTION IS AVAILABLE, OUTPUT EMPTY LIST. DO NOT MAKE ANY EDUCATED GUESS ON PURELY THE TITLE!\n",
    "\n",
    "#### said outcomes. may not be provided in the course description.\n",
    "{outcomes}\n",
    "\n",
    "### OTHER INPUT INFORMATIONS\n",
    "may or may not be provided.\n",
    "\n",
    "combined_with: {combined_with}\n",
    "distribution_requirements: {distributions}\n",
    "dates: {dates}\n",
    "\n",
    "\n",
    "### INSTRUCTION\n",
    "- perceived_prerequisites: what is actually needed to understand these. NOT the hard-written prerequisites list because that can be misleading and inaccurate, since some concepts are rarely used. output a list of short and concise string capturing everything. short sentences suffice\n",
    "- contents: what is taught in this course? output a list of short and concise string capturing everything. short sentences suffice\n",
    "- outcomes: What can you now achieve from taking this class that you previously cannot? How does this class benefit you in terms of academic & career & personal growth goals? How does it fit into the prerequisites chain? output a list of short and concise string capturing everything. short sentences suffice\n",
    "- hard_written_prerequisites: output as a list of course codes string is fine\n",
    "- distributions: a list (multiselect) from a predefined set of distributions, rest is ignored.\n",
    "- combined_with: output a list of course codes from the natural language input.\n",
    "\n",
    "### OUTPUT REQUIREMENTS\n",
    "DO NOT MAKE UP ANY INFORMATION. IF THE DESCRIPTION IS NOT AVIALBLE OR IS EMPTY OR SUCH, OUTPUT EMPTY STRINGS OR EMPTY LISTS FOR EVERY FIELD; DO NOT MAKE ANY EDUCATED GUESS ON PURELY THE TITLE!\n",
    "If there is not enough information to extract these information, output \"[]\" as an empty JSON list.\n",
    "JSON output must be compatible and must begin with {{ and end with }} so that python's json.loads can parse it.\n",
    "No escape character is needed for ', and wrap string with double quotes.\n",
    "\n",
    "### JSON DATA EXTRACTED (beginning with {{ and ending with }} WITHOUT ```json and ```):\n",
    "\"\"\""
   ]
  },
  {
   "cell_type": "code",
   "execution_count": 46,
   "metadata": {},
   "outputs": [
    {
     "data": {
      "text/html": [
       "<div>\n",
       "<style scoped>\n",
       "    .dataframe tbody tr th:only-of-type {\n",
       "        vertical-align: middle;\n",
       "    }\n",
       "\n",
       "    .dataframe tbody tr th {\n",
       "        vertical-align: top;\n",
       "    }\n",
       "\n",
       "    .dataframe thead th {\n",
       "        text-align: right;\n",
       "    }\n",
       "</style>\n",
       "<table border=\"1\" class=\"dataframe\">\n",
       "  <thead>\n",
       "    <tr style=\"text-align: right;\">\n",
       "      <th></th>\n",
       "      <th>course_description_id</th>\n",
       "      <th>course_id</th>\n",
       "      <th>description</th>\n",
       "      <th>title</th>\n",
       "      <th>credits</th>\n",
       "      <th>prerequisites</th>\n",
       "      <th>when_offered</th>\n",
       "      <th>combined_with</th>\n",
       "      <th>distribution</th>\n",
       "      <th>outcomes</th>\n",
       "      <th>ts</th>\n",
       "    </tr>\n",
       "  </thead>\n",
       "  <tbody>\n",
       "    <tr>\n",
       "      <th>1</th>\n",
       "      <td>5</td>\n",
       "      <td>127792</td>\n",
       "      <td>No description available.</td>\n",
       "      <td>Introduction to Digital Photography</td>\n",
       "      <td>3</td>\n",
       "      <td>None</td>\n",
       "      <td>None</td>\n",
       "      <td></td>\n",
       "      <td>None</td>\n",
       "      <td>None</td>\n",
       "      <td>2024-07-03 03:45:00</td>\n",
       "    </tr>\n",
       "  </tbody>\n",
       "</table>\n",
       "</div>"
      ],
      "text/plain": [
       "   course_description_id  course_id                description  \\\n",
       "1                      5     127792  No description available.   \n",
       "\n",
       "                                 title credits prerequisites when_offered  \\\n",
       "1  Introduction to Digital Photography       3          None         None   \n",
       "\n",
       "  combined_with distribution outcomes                   ts  \n",
       "1                       None     None  2024-07-03 03:45:00  "
      ]
     },
     "execution_count": 46,
     "metadata": {},
     "output_type": "execute_result"
    }
   ],
   "source": [
    "# course_descriptions_df.head()\n",
    "courses_df.loc[courses_df[\"course_id\"] == 127792]\n",
    "course_descriptions_df.loc[course_descriptions_df[\"course_id\"] == 127792]"
   ]
  },
  {
   "cell_type": "code",
   "execution_count": 44,
   "metadata": {},
   "outputs": [
    {
     "name": "stdout",
     "output_type": "stream",
     "text": [
      "{\n",
      "  \"perceived_prerequisites\": [],\n",
      "  \"contents\": [],\n",
      "  \"outcomes\": [],\n",
      "  \"hard_written_prerequisites\": [],\n",
      "  \"distributions\": [],\n",
      "  \"combined_with\": []\n",
      "}\n"
     ]
    }
   ],
   "source": [
    "title = \"Introduction to Digital Photography\"\n",
    "course_id = course_descriptions_df.loc[\n",
    "    course_descriptions_df[\"title\"] == title, \"course_id\"\n",
    "].values[0]\n",
    "# course_descriptions_df.loc[course_descriptions_df[\"title\"] == \"Object-Oriented Programming and Data Structures\"].values[0]\n",
    "\n",
    "prompt = EXTRACTION_COURSE_DESCRIPTION_PROMPT.format(\n",
    "    title=title,\n",
    "    dates=courses_df.loc[courses_df[\"course_id\"] == course_id, \"dates\"].values[0],\n",
    "    prereqs=course_descriptions_df.loc[\n",
    "        course_descriptions_df[\"course_id\"] == course_id, \"prerequisites\"\n",
    "    ].values[0],\n",
    "    description=course_descriptions_df.loc[\n",
    "        course_descriptions_df[\"course_id\"] == course_id, \"description\"\n",
    "    ].values[0],\n",
    "    outcomes=course_descriptions_df.loc[\n",
    "        course_descriptions_df[\"course_id\"] == course_id, \"outcomes\"\n",
    "    ].values[0],\n",
    "    combined_with=course_descriptions_df.loc[\n",
    "        course_descriptions_df[\"course_id\"] == course_id, \"combined_with\"\n",
    "    ].values[0],\n",
    "    distributions=course_descriptions_df.loc[\n",
    "        course_descriptions_df[\"course_id\"] == course_id, \"distribution\"\n",
    "    ].values[0],\n",
    ")\n",
    "\n",
    "response = await chat(prompt)\n",
    "print(response)\n",
    "\n",
    "# print(prompt, response)"
   ]
  },
  {
   "cell_type": "code",
   "execution_count": 64,
   "metadata": {},
   "outputs": [
    {
     "name": "stdout",
     "output_type": "stream",
     "text": [
      "15108 [['Project' 'SP24']]\n",
      "72912 [['Lecture' 'SP22']]\n",
      "99534 [['Lecture' 'SP21']]\n",
      "127793 [['Lecture' 'SP20']]\n",
      "153603 [['Lecture' 'SP19']]\n",
      "179143 [['Lecture' 'SP18']]\n",
      "204619 [['Lecture' 'SP17']]\n",
      "15107 [['Lecture' 'SP24']]\n"
     ]
    },
    {
     "data": {
      "text/plain": [
       "array(['This interdisciplinary course offers an introduction to the study of Asian/Pacific Islanders in the U.S. This course will examine, through a range of disciplines (including history, literary studies,&nbsp;film/media, performance, anthropology, sociology), issues and methods that have emerged from Asian American Studies since its inception in the late 1960s, including the types of research questions and methods that the study of Asians & Pacific Islander peoples in the U.S. as well as politics and historical relations in the Asia/Pacific region have to offer. In this course, we will pay particular attention to the role of culture and its production in documenting histories, formulating critical practices, and galvanizing political efforts. Topics and themes include: war & empire; queer & feminist lives and histories; refugee, adoptees, transnational families, and other forms of kinship & belonging; anti-Asian violence; settler colonialism and postcolonial critique.',\n",
       "       '(ALC-AS, CA-AS, SCD-AS)'], dtype=object)"
      ]
     },
     "execution_count": 64,
     "metadata": {},
     "output_type": "execute_result"
    }
   ],
   "source": [
    "# the saved sqlite is not that clean, need to clean it up\n",
    "\n",
    "# for example, for title Introduction to Asian American Studies, we have:\n",
    "ids = \"\"\"15108\n",
    "72912\n",
    "99534\n",
    "127793\n",
    "153603\n",
    "179143\n",
    "204619\n",
    "15107\"\"\".split(\"\\n\")\n",
    "\n",
    "\n",
    "for id in ids:\n",
    "    print(id, courses_df.loc[courses_df[\"course_id\"] == int(id)][['type', 'semester']].values[0:5])\n",
    "    # print(id, course_descriptions_df.loc[course_descriptions_df[\"course_id\"] == int(id)])\n",
    "\n",
    "course_descriptions_df.loc[course_descriptions_df[\"course_id\"] == 15108][['description', 'distribution']].values[0]\n",
    "# courses_df.loc[courses_df[\"course_id\"] == 15108]"
   ]
  }
 ],
 "metadata": {
  "kernelspec": {
   "display_name": "Python 3",
   "language": "python",
   "name": "python3"
  },
  "language_info": {
   "codemirror_mode": {
    "name": "ipython",
    "version": 3
   },
   "file_extension": ".py",
   "mimetype": "text/x-python",
   "name": "python",
   "nbconvert_exporter": "python",
   "pygments_lexer": "ipython3",
   "version": "3.11.9"
  }
 },
 "nbformat": 4,
 "nbformat_minor": 2
}
