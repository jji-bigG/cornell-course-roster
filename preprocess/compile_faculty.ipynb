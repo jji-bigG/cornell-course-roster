{
 "cells": [
  {
   "cell_type": "code",
   "execution_count": null,
   "metadata": {},
   "outputs": [],
   "source": []
  },
  {
   "cell_type": "markdown",
   "metadata": {},
   "source": [
    "### Goal\n",
    "gain insights about each professor, link all of these data together, and make a prediction about the quality of the professor.\n",
    "\n",
    "we can use reddit and RMP data to validate whether LLM's prediction is accurate or not.\n",
    "\n",
    "there would probably be a lot of labeling to do, and the labels might be across colleges, not just limited to one. thus, we need to be able to morph our data into a correct form by using a good prompt or some other method."
   ]
  },
  {
   "cell_type": "code",
   "execution_count": null,
   "metadata": {},
   "outputs": [],
   "source": [
    "# different types of faculties in each college and what information do we have access to? \n",
    "# the features are already kinda human extracted already, just their bios are some long natural langs"
   ]
  },
  {
   "cell_type": "markdown",
   "metadata": {},
   "source": [
    "##### Course Recommendation\n",
    "\n",
    "this is different from the course recommendation module. this is motivated by a professor's quality of teaching, not what you can gain out of a course. this requires an extensive review of their teaching capabilities."
   ]
  },
  {
   "cell_type": "markdown",
   "metadata": {},
   "source": [
    "##### Research Opportunities\n",
    "\n",
    "when a user would query about their potential research interests from perspectives such as\n",
    "- having an academic department\n",
    "    - general inquiry: i want to do some biology research, what are some opportunities?\n",
    "- having a research interest / direction\n",
    "    - about a specific topic: i want to do some research on cancer, what are some opportunities?\n",
    "- a specific professor: we can only pass along their contacts if very specific, but we can provide relative recommendations for one's who are similar to the professor\n",
    "    - how to get involved? we can provide courses & the activities that he is involved in\n",
    "    - how reputable is him? what are his publishings? "
   ]
  },
  {
   "cell_type": "markdown",
   "metadata": {},
   "source": [
    "extract where the professors are expert in from their bios, publications that can be turned into vectors.\n",
    "maybe even give an ai based summary on each of these metrics while we're at it -> only do that if it is worthwhile.\n",
    "\n",
    "for quicker search (when we have determined the domain and we need a list of students), i want it to also output students / any faculty that have a similar work experience\n",
    "\n",
    "since some faculties are professors who have actual contents on their page, and a lot are just students, we need to come up with a list of metrics, json fields that the LLM must determine / output. \n",
    "\n",
    "- whether worth it to give a review\n",
    "- how much experience\n",
    "- label all the fields the faculty is expert in (keywords & phrases)\n",
    "- any related fields based on what the bio & publication & all such\n",
    "\n",
    "##### LLM based reviews\n",
    "- research\n",
    "- teaching\n",
    "- reddit reviews\n",
    "- cu reviews\n",
    "- rmp reviews\n",
    "\n",
    "on both the professor & the course they teach"
   ]
  },
  {
   "cell_type": "code",
   "execution_count": null,
   "metadata": {},
   "outputs": [],
   "source": []
  },
  {
   "cell_type": "markdown",
   "metadata": {},
   "source": [
    "##### Career Orientations\n",
    "    \n",
    "what a user would query about their potential career paths that a professor can help set them up.\n",
    "This requires a professors' research and previous track records. We potentially need some of their linkedin data on where they are before joining the university.\n",
    "\n",
    "- having an academic department\n",
    "- past experience\n",
    "\n",
    "we need to be able to find a relevant professor that can set the student up for their career goals."
   ]
  }
 ],
 "metadata": {
  "language_info": {
   "name": "python"
  }
 },
 "nbformat": 4,
 "nbformat_minor": 2
}
