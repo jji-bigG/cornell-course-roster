{
 "cells": [
  {
   "cell_type": "code",
   "execution_count": 13,
   "metadata": {},
   "outputs": [],
   "source": [
    "from openai import AsyncOpenAI\n",
    "import json\n",
    "\n",
    "keys = json.load(open(\"secrets.json\"))\n",
    "\n",
    "client = AsyncOpenAI(\n",
    "    base_url=\"http://101.35.52.226:9090/v1\",\n",
    "    api_key=keys[\"api_key\"],\n",
    "    timeout=45,\n",
    ")\n",
    "\n",
    "\n",
    "async def chat(prompt, stream=False, temperature=0.0, n=1):\n",
    "    response = await client.chat.completions.create(\n",
    "        model=\"qwen-110b-chat\",\n",
    "        messages=[{\"role\": \"user\", \"content\": prompt}],\n",
    "        stream=stream,\n",
    "        max_tokens=512,\n",
    "        temperature=temperature,\n",
    "        n=n,\n",
    "        stop=[\"<|endoftext|>\", \"<|im_end|>\"],\n",
    "    )\n",
    "    if not stream:\n",
    "        if n == 1:\n",
    "            return response.choices[0].message.content.strip()\n",
    "        return response.choices\n",
    "    return response\n",
    "\n",
    "import vertexai\n",
    "from vertexai.generative_models import GenerativeModel\n",
    "\n",
    "vertexai.init(project=\"talk-to-a-local-427009\", location=\"us-central1\")\n",
    "\n",
    "gemini = GenerativeModel(model_name=\"gemini-1.5-flash-001\")"
   ]
  },
  {
   "cell_type": "markdown",
   "metadata": {},
   "source": [
    "### Goal\n",
    "gain insights about each professor, link all of these data together, and make a prediction about the quality of the professor.\n",
    "\n",
    "we can use reddit and RMP data to validate whether LLM's prediction is accurate or not.\n",
    "\n",
    "there would probably be a lot of labeling to do, and the labels might be across colleges, not just limited to one. thus, we need to be able to morph our data into a correct form by using a good prompt or some other method."
   ]
  },
  {
   "cell_type": "code",
   "execution_count": 39,
   "metadata": {},
   "outputs": [
    {
     "data": {
      "text/plain": [
       "'你好，我是来自阿里云的超大规模语言模型，我叫通义千问。'"
      ]
     },
     "execution_count": 39,
     "metadata": {},
     "output_type": "execute_result"
    }
   ],
   "source": [
    "# different types of faculties in each college and what information do we have access to? \n",
    "# the features are already kinda human extracted already, just their bios are some long natural langs\n",
    "\n",
    "await chat(\"你好，你是谁？\")"
   ]
  },
  {
   "cell_type": "markdown",
   "metadata": {},
   "source": [
    "##### Course Recommendation\n",
    "\n",
    "this is different from the course recommendation module. this is motivated by a professor's quality of teaching, not what you can gain out of a course. this requires an extensive review of their teaching capabilities."
   ]
  },
  {
   "cell_type": "markdown",
   "metadata": {},
   "source": [
    "##### Research Opportunities\n",
    "\n",
    "when a user would query about their potential research interests from perspectives such as\n",
    "- having an academic department\n",
    "    - general inquiry: i want to do some biology research, what are some opportunities?\n",
    "- having a research interest / direction\n",
    "    - about a specific topic: i want to do some research on cancer, what are some opportunities?\n",
    "- a specific professor: we can only pass along their contacts if very specific, but we can provide relative recommendations for one's who are similar to the professor\n",
    "    - how to get involved? we can provide courses & the activities that he is involved in\n",
    "    - how reputable is him? what are his publishings? "
   ]
  },
  {
   "cell_type": "markdown",
   "metadata": {},
   "source": [
    "extract where the professors are expert in from their bios, publications that can be turned into vectors.\n",
    "maybe even give an ai based summary on each of these metrics while we're at it -> only do that if it is worthwhile.\n",
    "\n",
    "for quicker search (when we have determined the domain and we need a list of students), i want it to also output students / any faculty that have a similar work experience\n",
    "\n",
    "since some faculties are professors who have actual contents on their page, and a lot are just students, we need to come up with a list of metrics, json fields that the LLM must determine / output. \n",
    "\n",
    "- whether worth it to give a review\n",
    "- how much experience\n",
    "- label all the fields the faculty is expert in (keywords & phrases)\n",
    "- any related fields based on what the bio & publication & all such\n",
    "\n",
    "##### LLM based reviews\n",
    "- research\n",
    "- teaching\n",
    "- reddit reviews\n",
    "- cu reviews\n",
    "- rmp reviews\n",
    "\n",
    "on both the professor & the course they teach"
   ]
  },
  {
   "cell_type": "code",
   "execution_count": 64,
   "metadata": {},
   "outputs": [],
   "source": [
    "EXTRACT_FACULTY_PROMPT = \"\"\"\n",
    "### FACULTY DETAILS\n",
    "education: {education}\n",
    "department: {department}\n",
    "position: {position}\n",
    "\n",
    "##### BIOGRAPHY\n",
    "{bio}\n",
    "\n",
    "##### RESEARCH INTERESTS\n",
    "{research}\n",
    "\n",
    "##### PUBLICATIONS\n",
    "{publications}\n",
    "\n",
    "\n",
    "### INSTRUCTIONS\n",
    "From the above faculty details, please extract the following: \n",
    "\"subdomains\": Which subdomain of academia does the faculty have expertise in based on ? (e.g. within Artificial Intelligence, we have reinforcement learning with human feedback, traditioal ML algorithms & its proofs, convolutional neural networks in multi-object tracking, etc.). Subdomains are areas where the faculty has expertise in. The output should be a list of strings of ideally length 3-5.\n",
    "\"goals\": What work do the faculty seem to work towards based on his research, publications, biography? (e.g. \"to develop a new algorithm for X\", \"to improve the efficiency of Y\", etc.) THIS SHOULD BE A LIST OF STRINGS.\n",
    "\"experience\": How experienced is the faculty? \n",
    "\"summary\": in one or two sentences, summarize the faculty's expertise and research interests.\n",
    "\n",
    "has_publication takes the value of TRUE if you think the faculty has publications related in the ballpark of that subdomain, otherwise FALSE.\n",
    "\n",
    "### OUTPUT REQUIREMENT\n",
    "If there is not enough information to extract these information, output \"None\".\n",
    "The output must be JSON.\n",
    "\n",
    "### EXTRACTED JSON DATA FROM FACULTY DETAILS:\n",
    "\"\"\""
   ]
  },
  {
   "cell_type": "code",
   "execution_count": 63,
   "metadata": {},
   "outputs": [
    {
     "name": "stdout",
     "output_type": "stream",
     "text": [
      "```json\n",
      "{\n",
      "  \"subdomains\": [\"Colloids and Interfacial Science\", \"Liquid Crystalline Materials\", \"Nanoparticle Synthesis\"],\n",
      "  \"goals\": [\"Developing chemically tailored interfaces for advanced sensor technologies\", \"Exploring reversible control of surfactant properties for various applications\", \"Understanding and manipulating hydrophobic interactions at the nanoscale\"],\n",
      "  \"experience\": \"Professor Abbott has over three decades of experience in chemical engineering, with positions at prestigious institutions including UC Davis, University of Wisconsin-Madison, and currently Cornell University. He has led departments and research centers, and is a Member of the US National Academy of Engineering.\",\n",
      "  \"summary\": \"Nicholas Abbott is an expert in colloidal and interfacial phenomena, focusing on the design of surfactants with molecular triggers, colloidal forces in liquid crystals for sensor applications, and nanoscale hydrophobic interactions for biomolecular engineering. His work bridges fundamental science with applications in biomedical devices, separations, and sustainable energy systems.\"\n",
      "}\n",
      "```\n"
     ]
    }
   ],
   "source": [
    "import pandas as pd\n",
    "\n",
    "eng_profs = pd.read_json(\"eng-prof-details.json\")\n",
    "eng_profs_list = pd.read_json(\"eng-prof-list.json\")\n",
    "eng_profs.columns\n",
    "\n",
    "prompt = EXTRACT_FACULTY_PROMPT.format(\n",
    "    department=eng_profs_list.iloc[0][\"department\"],\n",
    "    position=eng_profs_list.iloc[0][\"position\"],\n",
    "    bio=eng_profs.iloc[0][\"bio\"],\n",
    "    research=eng_profs.iloc[0][\"research_interests\"],\n",
    "    education=eng_profs.iloc[0][\"education\"],\n",
    "    publications=eng_profs.iloc[0][\"selected_publications\"],\n",
    ")\n",
    "\n",
    "response = await chat(prompt)\n",
    "\n",
    "# response = gemini.generate_content(prompt).text\n",
    "print(response)\n",
    "# print(prompt)"
   ]
  },
  {
   "cell_type": "code",
   "execution_count": 37,
   "metadata": {},
   "outputs": [
    {
     "name": "stdout",
     "output_type": "stream",
     "text": [
      "Mohamed Abdelfattah []\n"
     ]
    },
    {
     "data": {
      "text/plain": [
       "Index(['prof_name', 'bio', 'research_interests', 'selected_publications',\n",
       "       'awards', 'education', 'in_the_news', 'related_links',\n",
       "       'teaching_interests', 'websites'],\n",
       "      dtype='object')"
      ]
     },
     "execution_count": 37,
     "metadata": {},
     "output_type": "execute_result"
    }
   ],
   "source": [
    "# for checking the generated content\n",
    "i = 0\n",
    "\n",
    "print(\n",
    "    eng_profs.iloc[i][\"prof_name\"],\n",
    "    eng_profs.iloc[i][\"in_the_news\"],\n",
    ")\n",
    "eng_profs.columns"
   ]
  },
  {
   "cell_type": "code",
   "execution_count": 77,
   "metadata": {},
   "outputs": [],
   "source": [
    "EXTRACT_PROFESSOR_REVIEW_PROMPT = \"\"\"\n",
    "department: {department}\n",
    "overall rating: {overall_rating}\n",
    "overall difficulty: {overall_difficulty}\n",
    "\n",
    "### PROFESSOR REVIEWS\n",
    "{reviews}\n",
    "\n",
    "### INSTRUCTIONS\n",
    "From the above reviews, please extract the following:\n",
    "\"positive\": What are some positive aspects of the professor based on the reviews? This should be a list of strings.\n",
    "\"negative\": list of strings.\n",
    "\"others\": other attributes that are not positive or negative. This should be a list of strings.\n",
    "\"summary\": in one or two sentences, summarize the professor based on the reviews.\n",
    "\n",
    "### OUTPUT REQUIREMENT\n",
    "Do not make up any information, only strictly based on the professor reviews. Output less than 3 attributes if there is not enough relevant information to be classified into that category.\n",
    "If there is not enough information to extract these information, output \"[]\" as an empty JSON list.\n",
    "\n",
    "### JSON DATA EXTRACTED FROM REVIEWS:\n",
    "\"\"\""
   ]
  },
  {
   "cell_type": "code",
   "execution_count": 78,
   "metadata": {},
   "outputs": [
    {
     "name": "stdout",
     "output_type": "stream",
     "text": [
      "```json\n",
      "{\n",
      "\"positive\": [\"easy grader\", \"helpful grader\", \"enjoyed the material\", \"really nice\", \"interesting course material\"],\n",
      "\"negative\": [\"disorganized\", \"awkward\", \"incompetent\", \"frustrating\", \"boring\", \"WAYYYYYY too much work\", \"terrible grading system\"],\n",
      "\"others\": [\"graded on participation, essays, and one group project\", \"assignments reminiscent of middle school\", \"nicely tries to be helpful\"],\n",
      "\"summary\": \"Professor Edwards receives mixed reviews with some appreciating her easy grading and niceness, while others find her classes disorganized, with middle school-level assignments, and frustrating due to a lack of effective teaching and a heavy workload.\"\n",
      "}\n",
      "```\n"
     ]
    }
   ],
   "source": [
    "ratings_df = pd.read_json('ratings.jsonl', lines=True)\n",
    "ratings_sample_list = [\n",
    "    {\n",
    "        \"score\": r[\"rating\"],\n",
    "        \"difficulty\": r[\"difficulty\"],\n",
    "        \"review\": r[\"comment\"],\n",
    "    }\n",
    "    for r in ratings_df.iloc[0][\"ratings\"]\n",
    "]\n",
    "department = ratings_df.iloc[0][\"department\"]\n",
    "overall_rating = ratings_df.iloc[0][\"rating\"]\n",
    "overall_difficulty = ratings_df.iloc[0][\"difficulty\"]\n",
    "\n",
    "prompt = EXTRACT_PROFESSOR_REVIEW_PROMPT.format(\n",
    "    department=department,\n",
    "    overall_rating=overall_rating,\n",
    "    overall_difficulty=overall_difficulty,\n",
    "    reviews=ratings_sample_list,\n",
    ")\n",
    "\n",
    "response = await chat(prompt)\n",
    "\n",
    "print(response)"
   ]
  },
  {
   "cell_type": "markdown",
   "metadata": {},
   "source": [
    "##### Career Orientations\n",
    "    \n",
    "what a user would query about their potential career paths that a professor can help set them up.\n",
    "This requires a professors' research and previous track records. We potentially need some of their linkedin data on where they are before joining the university.\n",
    "\n",
    "- having an academic department\n",
    "- past experience\n",
    "\n",
    "we need to be able to find a relevant professor that can set the student up for their career goals."
   ]
  }
 ],
 "metadata": {
  "kernelspec": {
   "display_name": "Python 3",
   "language": "python",
   "name": "python3"
  },
  "language_info": {
   "codemirror_mode": {
    "name": "ipython",
    "version": 3
   },
   "file_extension": ".py",
   "mimetype": "text/x-python",
   "name": "python",
   "nbconvert_exporter": "python",
   "pygments_lexer": "ipython3",
   "version": "3.11.9"
  }
 },
 "nbformat": 4,
 "nbformat_minor": 2
}
