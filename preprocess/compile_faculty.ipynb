{
 "cells": [
  {
   "cell_type": "code",
   "execution_count": 13,
   "metadata": {},
   "outputs": [],
   "source": [
    "from openai import AsyncOpenAI\n",
    "import json\n",
    "\n",
    "keys = json.load(open(\"secrets.json\"))\n",
    "\n",
    "client = AsyncOpenAI(\n",
    "    base_url=\"http://101.35.52.226:9090/v1\",\n",
    "    api_key=keys[\"api_key\"],\n",
    "    timeout=45,\n",
    ")\n",
    "\n",
    "\n",
    "async def chat(prompt, stream=False, temperature=0.0, n=1):\n",
    "    response = await client.chat.completions.create(\n",
    "        model=\"qwen-110b-chat\",\n",
    "        messages=[{\"role\": \"user\", \"content\": prompt}],\n",
    "        stream=stream,\n",
    "        max_tokens=512,\n",
    "        temperature=temperature,\n",
    "        n=n,\n",
    "        stop=[\"<|endoftext|>\", \"<|im_end|>\"],\n",
    "    )\n",
    "    if not stream:\n",
    "        if n == 1:\n",
    "            return response.choices[0].message.content.strip()\n",
    "        return response.choices\n",
    "    return response\n",
    "\n",
    "import vertexai\n",
    "from vertexai.generative_models import GenerativeModel\n",
    "\n",
    "vertexai.init(project=\"talk-to-a-local-427009\", location=\"us-central1\")\n",
    "\n",
    "gemini = GenerativeModel(model_name=\"gemini-1.5-flash-001\")"
   ]
  },
  {
   "cell_type": "markdown",
   "metadata": {},
   "source": [
    "### Goal\n",
    "gain insights about each professor, link all of these data together, and make a prediction about the quality of the professor.\n",
    "\n",
    "we can use reddit and RMP data to validate whether LLM's prediction is accurate or not.\n",
    "\n",
    "there would probably be a lot of labeling to do, and the labels might be across colleges, not just limited to one. thus, we need to be able to morph our data into a correct form by using a good prompt or some other method."
   ]
  },
  {
   "cell_type": "code",
   "execution_count": 39,
   "metadata": {},
   "outputs": [
    {
     "data": {
      "text/plain": [
       "'你好，我是来自阿里云的超大规模语言模型，我叫通义千问。'"
      ]
     },
     "execution_count": 39,
     "metadata": {},
     "output_type": "execute_result"
    }
   ],
   "source": [
    "# different types of faculties in each college and what information do we have access to? \n",
    "# the features are already kinda human extracted already, just their bios are some long natural langs\n",
    "\n",
    "await chat(\"你好，你是谁？\")"
   ]
  },
  {
   "cell_type": "markdown",
   "metadata": {},
   "source": [
    "##### Course Recommendation\n",
    "\n",
    "this is different from the course recommendation module. this is motivated by a professor's quality of teaching, not what you can gain out of a course. this requires an extensive review of their teaching capabilities."
   ]
  },
  {
   "cell_type": "markdown",
   "metadata": {},
   "source": [
    "##### Research Opportunities\n",
    "\n",
    "when a user would query about their potential research interests from perspectives such as\n",
    "- having an academic department\n",
    "    - general inquiry: i want to do some biology research, what are some opportunities?\n",
    "- having a research interest / direction\n",
    "    - about a specific topic: i want to do some research on cancer, what are some opportunities?\n",
    "- a specific professor: we can only pass along their contacts if very specific, but we can provide relative recommendations for one's who are similar to the professor\n",
    "    - how to get involved? we can provide courses & the activities that he is involved in\n",
    "    - how reputable is him? what are his publishings? "
   ]
  },
  {
   "cell_type": "markdown",
   "metadata": {},
   "source": [
    "extract where the professors are expert in from their bios, publications that can be turned into vectors.\n",
    "maybe even give an ai based summary on each of these metrics while we're at it -> only do that if it is worthwhile.\n",
    "\n",
    "for quicker search (when we have determined the domain and we need a list of students), i want it to also output students / any faculty that have a similar work experience\n",
    "\n",
    "since some faculties are professors who have actual contents on their page, and a lot are just students, we need to come up with a list of metrics, json fields that the LLM must determine / output. \n",
    "\n",
    "- whether worth it to give a review\n",
    "- how much experience\n",
    "- label all the fields the faculty is expert in (keywords & phrases)\n",
    "- any related fields based on what the bio & publication & all such\n",
    "\n",
    "##### LLM based reviews\n",
    "- research\n",
    "- teaching\n",
    "- reddit reviews\n",
    "- cu reviews\n",
    "- rmp reviews\n",
    "\n",
    "on both the professor & the course they teach"
   ]
  },
  {
   "cell_type": "code",
   "execution_count": 64,
   "metadata": {},
   "outputs": [],
   "source": [
    "EXTRACT_FACULTY_PROMPT = \"\"\"\n",
    "### FACULTY DETAILS\n",
    "education: {education}\n",
    "department: {department}\n",
    "position: {position}\n",
    "\n",
    "##### BIOGRAPHY\n",
    "{bio}\n",
    "\n",
    "##### RESEARCH INTERESTS\n",
    "{research}\n",
    "\n",
    "##### PUBLICATIONS\n",
    "{publications}\n",
    "\n",
    "\n",
    "### INSTRUCTIONS\n",
    "From the above faculty details, please extract the following: \n",
    "\"subdomains\": Which subdomain of academia does the faculty have expertise in based on ? (e.g. within Artificial Intelligence, we have reinforcement learning with human feedback, traditioal ML algorithms & its proofs, convolutional neural networks in multi-object tracking, etc.). Subdomains are areas where the faculty has expertise in. The output should be a list of strings of ideally length 3-5.\n",
    "\"goals\": What work do the faculty seem to work towards based on his research, publications, biography? (e.g. \"to develop a new algorithm for X\", \"to improve the efficiency of Y\", etc.) THIS SHOULD BE A LIST OF STRINGS.\n",
    "\"experience\": How experienced is the faculty? \n",
    "\"summary\": in one or two sentences, summarize the faculty's expertise and research interests.\n",
    "\n",
    "has_publication takes the value of TRUE if you think the faculty has publications related in the ballpark of that subdomain, otherwise FALSE.\n",
    "\n",
    "### OUTPUT REQUIREMENT\n",
    "DO NOT MAKE UP ANY INFORMATION, ONLY EXTRACT INFORMATION THAT IS PRESENT IN THE TEXT.\n",
    "If there is not enough information to extract these information, output \"None\".\n",
    "If there is not enough information to extract these information, output \"[]\" as an empty JSON list.\n",
    "JSON output must be compatible and must begin with {{ and end with }} so that python's json.loads can parse it.\n",
    "No escape character is needed for ', and wrap string with double quotes.\n",
    "\n",
    "### EXTRACTED JSON DATA FROM FACULTY DETAILS:\n",
    "\"\"\""
   ]
  },
  {
   "cell_type": "code",
   "execution_count": 63,
   "metadata": {},
   "outputs": [
    {
     "name": "stdout",
     "output_type": "stream",
     "text": [
      "```json\n",
      "{\n",
      "  \"subdomains\": [\"Colloids and Interfacial Science\", \"Liquid Crystalline Materials\", \"Nanoparticle Synthesis\"],\n",
      "  \"goals\": [\"Developing chemically tailored interfaces for advanced sensor technologies\", \"Exploring reversible control of surfactant properties for various applications\", \"Understanding and manipulating hydrophobic interactions at the nanoscale\"],\n",
      "  \"experience\": \"Professor Abbott has over three decades of experience in chemical engineering, with positions at prestigious institutions including UC Davis, University of Wisconsin-Madison, and currently Cornell University. He has led departments and research centers, and is a Member of the US National Academy of Engineering.\",\n",
      "  \"summary\": \"Nicholas Abbott is an expert in colloidal and interfacial phenomena, focusing on the design of surfactants with molecular triggers, colloidal forces in liquid crystals for sensor applications, and nanoscale hydrophobic interactions for biomolecular engineering. His work bridges fundamental science with applications in biomedical devices, separations, and sustainable energy systems.\"\n",
      "}\n",
      "```\n"
     ]
    }
   ],
   "source": [
    "import pandas as pd\n",
    "\n",
    "eng_profs = pd.read_json(\"eng-prof-details.json\")\n",
    "eng_profs_list = pd.read_json(\"eng-prof-list.json\")\n",
    "eng_profs.columns\n",
    "\n",
    "prompt = EXTRACT_FACULTY_PROMPT.format(\n",
    "    department=eng_profs_list.iloc[0][\"department\"],\n",
    "    position=eng_profs_list.iloc[0][\"position\"],\n",
    "    bio=eng_profs.iloc[0][\"bio\"],\n",
    "    research=eng_profs.iloc[0][\"research_interests\"],\n",
    "    education=eng_profs.iloc[0][\"education\"],\n",
    "    publications=eng_profs.iloc[0][\"selected_publications\"],\n",
    ")\n",
    "\n",
    "response = await chat(prompt)\n",
    "\n",
    "# response = gemini.generate_content(prompt).text\n",
    "print(response)\n",
    "# print(prompt)"
   ]
  },
  {
   "cell_type": "code",
   "execution_count": 37,
   "metadata": {},
   "outputs": [
    {
     "name": "stdout",
     "output_type": "stream",
     "text": [
      "Mohamed Abdelfattah []\n"
     ]
    },
    {
     "data": {
      "text/plain": [
       "Index(['prof_name', 'bio', 'research_interests', 'selected_publications',\n",
       "       'awards', 'education', 'in_the_news', 'related_links',\n",
       "       'teaching_interests', 'websites'],\n",
       "      dtype='object')"
      ]
     },
     "execution_count": 37,
     "metadata": {},
     "output_type": "execute_result"
    }
   ],
   "source": [
    "# for checking the generated content\n",
    "i = 0\n",
    "\n",
    "print(\n",
    "    eng_profs.iloc[i][\"prof_name\"],\n",
    "    eng_profs.iloc[i][\"in_the_news\"],\n",
    ")\n",
    "eng_profs.columns"
   ]
  },
  {
   "cell_type": "code",
   "execution_count": 77,
   "metadata": {},
   "outputs": [],
   "source": [
    "EXTRACT_PROFESSOR_REVIEW_PROMPT = \"\"\"\n",
    "department: {department}\n",
    "overall rating: {overall_rating}\n",
    "overall difficulty: {overall_difficulty}\n",
    "\n",
    "### PROFESSOR REVIEWS\n",
    "{reviews}\n",
    "\n",
    "### INSTRUCTIONS\n",
    "From the above reviews, please extract the following:\n",
    "\"positive\": What are some positive aspects of the professor based on the reviews? This should be a list of strings.\n",
    "\"negative\": list of strings.\n",
    "\"others\": other attributes that are not positive or negative. This should be a list of strings.\n",
    "\"summary\": in one or two sentences, summarize the professor based on the reviews.\n",
    "\n",
    "### OUTPUT REQUIREMENT\n",
    "Do not make up any information, only strictly based on the professor reviews. Output less than 3 attributes if there is not enough relevant information to be classified into that category.\n",
    "If there is not enough information to extract these information, output \"[]\" as an empty JSON list.\n",
    "\n",
    "### JSON DATA EXTRACTED FROM REVIEWS:\n",
    "\"\"\""
   ]
  },
  {
   "cell_type": "code",
   "execution_count": 78,
   "metadata": {},
   "outputs": [
    {
     "name": "stdout",
     "output_type": "stream",
     "text": [
      "```json\n",
      "{\n",
      "\"positive\": [\"easy grader\", \"helpful grader\", \"enjoyed the material\", \"really nice\", \"interesting course material\"],\n",
      "\"negative\": [\"disorganized\", \"awkward\", \"incompetent\", \"frustrating\", \"boring\", \"WAYYYYYY too much work\", \"terrible grading system\"],\n",
      "\"others\": [\"graded on participation, essays, and one group project\", \"assignments reminiscent of middle school\", \"nicely tries to be helpful\"],\n",
      "\"summary\": \"Professor Edwards receives mixed reviews with some appreciating her easy grading and niceness, while others find her classes disorganized, with middle school-level assignments, and frustrating due to a lack of effective teaching and a heavy workload.\"\n",
      "}\n",
      "```\n"
     ]
    }
   ],
   "source": [
    "ratings_df = pd.read_json('ratings.jsonl', lines=True)\n",
    "ratings_sample_list = [\n",
    "    {\n",
    "        \"score\": r[\"rating\"],\n",
    "        \"difficulty\": r[\"difficulty\"],\n",
    "        \"review\": r[\"comment\"],\n",
    "    }\n",
    "    for r in ratings_df.iloc[0][\"ratings\"]\n",
    "]\n",
    "department = ratings_df.iloc[0][\"department\"]\n",
    "overall_rating = ratings_df.iloc[0][\"rating\"]\n",
    "overall_difficulty = ratings_df.iloc[0][\"difficulty\"]\n",
    "\n",
    "prompt = EXTRACT_PROFESSOR_REVIEW_PROMPT.format(\n",
    "    department=department,\n",
    "    overall_rating=overall_rating,\n",
    "    overall_difficulty=overall_difficulty,\n",
    "    reviews=ratings_sample_list,\n",
    ")\n",
    "\n",
    "response = await chat(prompt)\n",
    "\n",
    "print(response)"
   ]
  },
  {
   "cell_type": "code",
   "execution_count": 82,
   "metadata": {},
   "outputs": [],
   "source": [
    "prof_reviews = [json.loads(l) for l in open('llm_professor_reviews.jsonl').readlines()]\n",
    "prof_reviews_processed = []\n",
    "f = open('processes.jsonl', 'w')\n",
    "\n",
    "for r in prof_reviews:\n",
    "    prof_reviews_processed.append({\"professor\": r['professor'], \"responses\": [r['response']], \"gleaned\": None})\n",
    "    f.write(\n",
    "        json.dumps({\"professor\": r[\"professor\"], \"responses\": [r[\"response\"]], \"gleaned\": None}) + '\\n'\n",
    "    )\n",
    "\n",
    "f.close()"
   ]
  },
  {
   "cell_type": "code",
   "execution_count": 86,
   "metadata": {},
   "outputs": [],
   "source": [
    "GLEAN_PROFESSOR_REVIEW_PROMPT = \"\"\"\n",
    "### PREVIOUS OUTPUT INSTRUCTIONS\n",
    "From the above reviews, please extract the following:\n",
    "\"positive\": What are some positive aspects of the professor based on the reviews? This should be a list of strings each under 20 words. short phrases or sentences suffice as long as it captures the essential meaning of these reviews.\n",
    "\"negative\": list of strings each of length under 20 words. short phrases or sentences suffice as long as it captures the essential meaning of these reviews.\n",
    "\"others\": other attributes that are not positive or negative. This should be a list of strings.\n",
    "\"summary\": in one or two sentences, summarize the professor based on the reviews. If mixed reviews, summarize both sides, do not mention it is mixed reviews.\n",
    "\n",
    "### PREVIOUS OUTPUTS\n",
    "{previous_outputs}\n",
    "\n",
    "### OUTPUT & INSTRUCTIONS\n",
    "due to a limited context window, I have generated several outputs based on above PREVIOUS OUTPUT INSTRUCTIONS.\n",
    "\n",
    "review and combine the generated outputs from the previous few runs to generate the final output that follows the PREVIOUS OUTPUT INSTRUCTIONS.\n",
    "SIMILAR MEANINGS SHOULD BE MERGED INTO ONE to reduce duplicates and redundancy.\n",
    "THE OUTPUT FOR THIS SHOULD FOLLOW THE SAME REQUIREMENTS AS THE PREVIOUS OUTPUT INSTRUCTIONS\n",
    "\n",
    "Do not make up any information.\n",
    "If there is not enough information to extract these information, output \"[]\" as an empty JSON list.\n",
    "JSON output must be compatible and must begin with {{ and end with }} so that python's json.loads can parse it.\n",
    "No escape character is needed for ', and wrap string with double quotes.\n",
    "\n",
    "### CLEANED JSON DATA (beginning with {{ and ending with }}):\n",
    "\"\"\""
   ]
  },
  {
   "cell_type": "code",
   "execution_count": 89,
   "metadata": {},
   "outputs": [
    {
     "ename": "JSONDecodeError",
     "evalue": "Unterminated string starting at: line 35 column 12 (char 2090)",
     "output_type": "error",
     "traceback": [
      "\u001b[0;31m---------------------------------------------------------------------------\u001b[0m",
      "\u001b[0;31mJSONDecodeError\u001b[0m                           Traceback (most recent call last)",
      "Cell \u001b[0;32mIn[89], line 146\u001b[0m\n\u001b[1;32m      1\u001b[0m responses \u001b[38;5;241m=\u001b[39m (\n\u001b[1;32m      2\u001b[0m     {\n\u001b[1;32m      3\u001b[0m         \u001b[38;5;124m\"\u001b[39m\u001b[38;5;124mpositive\u001b[39m\u001b[38;5;124m\"\u001b[39m: [\n\u001b[0;32m   (...)\u001b[0m\n\u001b[1;32m    142\u001b[0m     },\n\u001b[1;32m    143\u001b[0m )\n\u001b[1;32m    145\u001b[0m resp \u001b[38;5;241m=\u001b[39m \u001b[38;5;28;01mawait\u001b[39;00m chat(GLEAN_PROFESSOR_REVIEW_PROMPT\u001b[38;5;241m.\u001b[39mformat(previous_outputs\u001b[38;5;241m=\u001b[39mresponses))\n\u001b[0;32m--> 146\u001b[0m response \u001b[38;5;241m=\u001b[39m \u001b[43mjson\u001b[49m\u001b[38;5;241;43m.\u001b[39;49m\u001b[43mloads\u001b[49m\u001b[43m(\u001b[49m\u001b[43mresp\u001b[49m\u001b[43m)\u001b[49m\n",
      "File \u001b[0;32m~/dev/cornell-course-roster/.conda/lib/python3.11/json/__init__.py:346\u001b[0m, in \u001b[0;36mloads\u001b[0;34m(s, cls, object_hook, parse_float, parse_int, parse_constant, object_pairs_hook, **kw)\u001b[0m\n\u001b[1;32m    341\u001b[0m     s \u001b[38;5;241m=\u001b[39m s\u001b[38;5;241m.\u001b[39mdecode(detect_encoding(s), \u001b[38;5;124m'\u001b[39m\u001b[38;5;124msurrogatepass\u001b[39m\u001b[38;5;124m'\u001b[39m)\n\u001b[1;32m    343\u001b[0m \u001b[38;5;28;01mif\u001b[39;00m (\u001b[38;5;28mcls\u001b[39m \u001b[38;5;129;01mis\u001b[39;00m \u001b[38;5;28;01mNone\u001b[39;00m \u001b[38;5;129;01mand\u001b[39;00m object_hook \u001b[38;5;129;01mis\u001b[39;00m \u001b[38;5;28;01mNone\u001b[39;00m \u001b[38;5;129;01mand\u001b[39;00m\n\u001b[1;32m    344\u001b[0m         parse_int \u001b[38;5;129;01mis\u001b[39;00m \u001b[38;5;28;01mNone\u001b[39;00m \u001b[38;5;129;01mand\u001b[39;00m parse_float \u001b[38;5;129;01mis\u001b[39;00m \u001b[38;5;28;01mNone\u001b[39;00m \u001b[38;5;129;01mand\u001b[39;00m\n\u001b[1;32m    345\u001b[0m         parse_constant \u001b[38;5;129;01mis\u001b[39;00m \u001b[38;5;28;01mNone\u001b[39;00m \u001b[38;5;129;01mand\u001b[39;00m object_pairs_hook \u001b[38;5;129;01mis\u001b[39;00m \u001b[38;5;28;01mNone\u001b[39;00m \u001b[38;5;129;01mand\u001b[39;00m \u001b[38;5;129;01mnot\u001b[39;00m kw):\n\u001b[0;32m--> 346\u001b[0m     \u001b[38;5;28;01mreturn\u001b[39;00m \u001b[43m_default_decoder\u001b[49m\u001b[38;5;241;43m.\u001b[39;49m\u001b[43mdecode\u001b[49m\u001b[43m(\u001b[49m\u001b[43ms\u001b[49m\u001b[43m)\u001b[49m\n\u001b[1;32m    347\u001b[0m \u001b[38;5;28;01mif\u001b[39;00m \u001b[38;5;28mcls\u001b[39m \u001b[38;5;129;01mis\u001b[39;00m \u001b[38;5;28;01mNone\u001b[39;00m:\n\u001b[1;32m    348\u001b[0m     \u001b[38;5;28mcls\u001b[39m \u001b[38;5;241m=\u001b[39m JSONDecoder\n",
      "File \u001b[0;32m~/dev/cornell-course-roster/.conda/lib/python3.11/json/decoder.py:337\u001b[0m, in \u001b[0;36mJSONDecoder.decode\u001b[0;34m(self, s, _w)\u001b[0m\n\u001b[1;32m    332\u001b[0m \u001b[38;5;28;01mdef\u001b[39;00m \u001b[38;5;21mdecode\u001b[39m(\u001b[38;5;28mself\u001b[39m, s, _w\u001b[38;5;241m=\u001b[39mWHITESPACE\u001b[38;5;241m.\u001b[39mmatch):\n\u001b[1;32m    333\u001b[0m \u001b[38;5;250m    \u001b[39m\u001b[38;5;124;03m\"\"\"Return the Python representation of ``s`` (a ``str`` instance\u001b[39;00m\n\u001b[1;32m    334\u001b[0m \u001b[38;5;124;03m    containing a JSON document).\u001b[39;00m\n\u001b[1;32m    335\u001b[0m \n\u001b[1;32m    336\u001b[0m \u001b[38;5;124;03m    \"\"\"\u001b[39;00m\n\u001b[0;32m--> 337\u001b[0m     obj, end \u001b[38;5;241m=\u001b[39m \u001b[38;5;28;43mself\u001b[39;49m\u001b[38;5;241;43m.\u001b[39;49m\u001b[43mraw_decode\u001b[49m\u001b[43m(\u001b[49m\u001b[43ms\u001b[49m\u001b[43m,\u001b[49m\u001b[43m \u001b[49m\u001b[43midx\u001b[49m\u001b[38;5;241;43m=\u001b[39;49m\u001b[43m_w\u001b[49m\u001b[43m(\u001b[49m\u001b[43ms\u001b[49m\u001b[43m,\u001b[49m\u001b[43m \u001b[49m\u001b[38;5;241;43m0\u001b[39;49m\u001b[43m)\u001b[49m\u001b[38;5;241;43m.\u001b[39;49m\u001b[43mend\u001b[49m\u001b[43m(\u001b[49m\u001b[43m)\u001b[49m\u001b[43m)\u001b[49m\n\u001b[1;32m    338\u001b[0m     end \u001b[38;5;241m=\u001b[39m _w(s, end)\u001b[38;5;241m.\u001b[39mend()\n\u001b[1;32m    339\u001b[0m     \u001b[38;5;28;01mif\u001b[39;00m end \u001b[38;5;241m!=\u001b[39m \u001b[38;5;28mlen\u001b[39m(s):\n",
      "File \u001b[0;32m~/dev/cornell-course-roster/.conda/lib/python3.11/json/decoder.py:353\u001b[0m, in \u001b[0;36mJSONDecoder.raw_decode\u001b[0;34m(self, s, idx)\u001b[0m\n\u001b[1;32m    344\u001b[0m \u001b[38;5;250m\u001b[39m\u001b[38;5;124;03m\"\"\"Decode a JSON document from ``s`` (a ``str`` beginning with\u001b[39;00m\n\u001b[1;32m    345\u001b[0m \u001b[38;5;124;03ma JSON document) and return a 2-tuple of the Python\u001b[39;00m\n\u001b[1;32m    346\u001b[0m \u001b[38;5;124;03mrepresentation and the index in ``s`` where the document ended.\u001b[39;00m\n\u001b[0;32m   (...)\u001b[0m\n\u001b[1;32m    350\u001b[0m \n\u001b[1;32m    351\u001b[0m \u001b[38;5;124;03m\"\"\"\u001b[39;00m\n\u001b[1;32m    352\u001b[0m \u001b[38;5;28;01mtry\u001b[39;00m:\n\u001b[0;32m--> 353\u001b[0m     obj, end \u001b[38;5;241m=\u001b[39m \u001b[38;5;28;43mself\u001b[39;49m\u001b[38;5;241;43m.\u001b[39;49m\u001b[43mscan_once\u001b[49m\u001b[43m(\u001b[49m\u001b[43ms\u001b[49m\u001b[43m,\u001b[49m\u001b[43m \u001b[49m\u001b[43midx\u001b[49m\u001b[43m)\u001b[49m\n\u001b[1;32m    354\u001b[0m \u001b[38;5;28;01mexcept\u001b[39;00m \u001b[38;5;167;01mStopIteration\u001b[39;00m \u001b[38;5;28;01mas\u001b[39;00m err:\n\u001b[1;32m    355\u001b[0m     \u001b[38;5;28;01mraise\u001b[39;00m JSONDecodeError(\u001b[38;5;124m\"\u001b[39m\u001b[38;5;124mExpecting value\u001b[39m\u001b[38;5;124m\"\u001b[39m, s, err\u001b[38;5;241m.\u001b[39mvalue) \u001b[38;5;28;01mfrom\u001b[39;00m \u001b[38;5;28;01mNone\u001b[39;00m\n",
      "\u001b[0;31mJSONDecodeError\u001b[0m: Unterminated string starting at: line 35 column 12 (char 2090)"
     ]
    }
   ],
   "source": [
    "responses = (\n",
    "    {\n",
    "        \"positive\": [\n",
    "            \"Great person and even greater professor!\",\n",
    "            'Professor Andrew Musser is the \"element\" of excellence in teaching Chem2090.',\n",
    "            'His lectures are a true \"chemical reaction\" of enthusiasm and knowledge.',\n",
    "        ],\n",
    "        \"negative\": [\n",
    "            \"lectures are incredibly boring\",\n",
    "            \"made the material much more difficult than it needed to be\",\n",
    "            \"his teaching style is as dry as a desert\",\n",
    "            \"confusing and full of unexpected reactions\",\n",
    "            \"made chemistry seem more confusing than a failed experiment\",\n",
    "        ],\n",
    "        \"others\": [],\n",
    "        \"summary\": \"Professor Musser's teaching style is polarizing, with some praising his enthusiasm and excellence while others find his lectures confusing and boring. The class is known for being difficult, but with a significant curve.\",\n",
    "    },\n",
    "    {\n",
    "        \"positive\": [],\n",
    "        \"negative\": [\n",
    "            \"painfully dry lectures\",\n",
    "            \"confusing explanations\",\n",
    "            \"monotone voice\",\n",
    "            \"lack of clarity\",\n",
    "            \"difficult to understand\",\n",
    "            \"unengaging teaching style\",\n",
    "        ],\n",
    "        \"others\": [],\n",
    "        \"summary\": \"Professor Musser's chemistry lectures are consistently described as dry, confusing, and difficult to follow, with a monotone delivery that makes engagement challenging.\",\n",
    "    },\n",
    "    {\n",
    "        \"positive\": [],\n",
    "        \"negative\": [\n",
    "            \"boring lectures\",\n",
    "            \"confusing explanations\",\n",
    "            \"difficult to understand\",\n",
    "            \"lacks enthusiasm\",\n",
    "            \"makes chemistry uninteresting\",\n",
    "        ],\n",
    "        \"others\": [],\n",
    "        \"summary\": \"Professor Musser's chemistry classes are consistently described as boring and confusing, with lectures that lack enthusiasm and make the subject matter difficult to understand.\",\n",
    "    },\n",
    "    {\n",
    "        \"positive\": [],\n",
    "        \"negative\": [\n",
    "            \"Confusing lectures\",\n",
    "            \"Difficult to understand\",\n",
    "            \"Lacks clarity and engagement\",\n",
    "            \"High difficulty level\",\n",
    "            \"Ineffective teaching methods\",\n",
    "        ],\n",
    "        \"others\": [],\n",
    "        \"summary\": \"Professor Musser's classes are consistently reported as difficult to follow, with confusing lectures and a lack of clarity in teaching, leading to a challenging learning experience.\",\n",
    "    },\n",
    "    {\n",
    "        \"positive\": [],\n",
    "        \"negative\": [\n",
    "            \"Confusing explanations\",\n",
    "            \"Difficult to follow lectures\",\n",
    "            \"Lacks clear teaching method\",\n",
    "            \"Overcomplicates simple concepts\",\n",
    "            \"Hard to understand\",\n",
    "            \"Unengaging lectures\",\n",
    "            \"Tests are challenging\",\n",
    "            \"Needs improvement in teaching\",\n",
    "        ],\n",
    "        \"others\": [\"Has a good heart\", \"Nice guy\", \"British Texan personality\"],\n",
    "        \"summary\": \"Professor Musser's classes are generally perceived as challenging and confusing, with unclear explanations that make learning difficult for students. Despite this, he is described as a nice person with a unique personality, although his teaching style requires significant improvement.\",\n",
    "    },\n",
    "    {\n",
    "        \"positive\": [\n",
    "            \"good guy\",\n",
    "            \"nice guy\",\n",
    "            \"tries his best\",\n",
    "            \"kind and understanding\",\n",
    "            \"respects students\",\n",
    "            \"gives extra credit\",\n",
    "            \"helpful office hours\",\n",
    "            \"clear in lecture at times\",\n",
    "            \"good intentions\",\n",
    "            \"passionate about teaching\",\n",
    "            \"exams are straightforward\",\n",
    "            \"fair grading\",\n",
    "            \"helpful practice exams\",\n",
    "            \"made chemistry interesting\",\n",
    "            \"british lullaby voice\",\n",
    "            \"good professor\",\n",
    "            \"nice and smart individual\",\n",
    "            \"helps students during tough times\",\n",
    "            \"made me interested in chemistry\",\n",
    "            \"best professor, easy exams\",\n",
    "            \"very kind, smart\",\n",
    "            \"answers questions after class\",\n",
    "            \"inspiring professor\",\n",
    "        ],\n",
    "        \"negative\": [\n",
    "            \"confusing lectures\",\n",
    "            \"poorly organized\",\n",
    "            \"lectures not exam relevant\",\n",
    "            \"hard to follow\",\n",
    "            \"incomprehensible lectures\",\n",
    "            \"lectures don't align with exams\",\n",
    "            \"too smart for own good\",\n",
    "            \"terrible lecturer\",\n",
    "            \"lectures are a mess\",\n",
    "            \"class is a weeder\",\n",
    "            \"expects too much knowledge\",\n",
    "            \"lectures not useful\",\n",
    "            \"poor handwriting\",\n",
    "            \"hard to hear or see\",\n",
    "            \"lectures not engaging\",\n",
    "            \"class ruined mental state\",\n",
    "            \"insensitive and lazy\",\n",
    "            \"bad teaching\",\n",
    "            \"awful professor\",\n",
    "            \"class is disorganized\",\n",
    "            \"exams test speed not understanding\",\n",
    "            \"lectures are a waste of time\",\n",
    "            \"class is manageable but not taught well\",\n",
    "        ],\n",
    "        \"others\": [\n",
    "            \"requires self-study\",\n",
    "            \"uses quantum mechanics in intro class\",\n",
    "            \"large amount of homework\",\n",
    "            \"exams are challenging\",\n",
    "            \"class is difficult\",\n",
    "            \"lecture handwriting small\",\n",
    "            \"lecture pace is fast\",\n",
    "            \"uses blackboard\",\n",
    "            \"class not for those without AP chem\",\n",
    "            \"exam average was low\",\n",
    "            \"lecture attendance optional\",\n",
    "            \"lecture doesn't match lab\",\n",
    "            \"nice but not effective\",\n",
    "            \"poor course structure\",\n",
    "            \"exams test calculations\",\n",
    "            \"lecture content not tested\",\n",
    "            \"class is not for beginners\",\n",
    "            \"requires textbook and problem sets\",\n",
    "        ],\n",
    "        \"summary\": \"Professor Musser is generally perceived as a kind and well-intentioned individual who tries hard, but his lectures are often confusing and not aligned with exams, leading to a challenging learning experience for many students. While some appreciate his efforts and find exams fair, the majority struggle with the course's organization and teaching style.\",\n",
    "    },\n",
    ")\n",
    "\n",
    "resp = await chat(GLEAN_PROFESSOR_REVIEW_PROMPT.format(previous_outputs=responses))\n",
    "response = json.loads(resp)"
   ]
  },
  {
   "cell_type": "code",
   "execution_count": 92,
   "metadata": {},
   "outputs": [
    {
     "data": {
      "text/plain": [
       "2249"
      ]
     },
     "execution_count": 92,
     "metadata": {},
     "output_type": "execute_result"
    }
   ],
   "source": [
    "len(resp)"
   ]
  },
  {
   "cell_type": "markdown",
   "metadata": {},
   "source": [
    "##### Career Orientations\n",
    "    \n",
    "what a user would query about their potential career paths that a professor can help set them up.\n",
    "This requires a professors' research and previous track records. We potentially need some of their linkedin data on where they are before joining the university.\n",
    "\n",
    "- having an academic department\n",
    "- past experience\n",
    "\n",
    "we need to be able to find a relevant professor that can set the student up for their career goals."
   ]
  }
 ],
 "metadata": {
  "kernelspec": {
   "display_name": "Python 3",
   "language": "python",
   "name": "python3"
  },
  "language_info": {
   "codemirror_mode": {
    "name": "ipython",
    "version": 3
   },
   "file_extension": ".py",
   "mimetype": "text/x-python",
   "name": "python",
   "nbconvert_exporter": "python",
   "pygments_lexer": "ipython3",
   "version": "3.11.9"
  }
 },
 "nbformat": 4,
 "nbformat_minor": 2
}
