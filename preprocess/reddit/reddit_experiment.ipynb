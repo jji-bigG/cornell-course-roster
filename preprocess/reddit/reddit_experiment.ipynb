{
 "cells": [
  {
   "cell_type": "code",
   "execution_count": 2,
   "metadata": {},
   "outputs": [],
   "source": [
    "import pandas as pd\n",
    "import sqlite3\n",
    "\n",
    "conn = sqlite3.connect('roster_reviews.sqlite.db')\n",
    "\n",
    "posts_df = pd.read_sql_query(\"SELECT * FROM reddit_posts\", conn)\n",
    "comments_df = pd.read_sql_query(\"SELECT * FROM reddit_comments\", conn)\n",
    "\n",
    "conn.close()"
   ]
  },
  {
   "cell_type": "code",
   "execution_count": 20,
   "metadata": {},
   "outputs": [
    {
     "data": {
      "text/html": [
       "<div>\n",
       "<style scoped>\n",
       "    .dataframe tbody tr th:only-of-type {\n",
       "        vertical-align: middle;\n",
       "    }\n",
       "\n",
       "    .dataframe tbody tr th {\n",
       "        vertical-align: top;\n",
       "    }\n",
       "\n",
       "    .dataframe thead th {\n",
       "        text-align: right;\n",
       "    }\n",
       "</style>\n",
       "<table border=\"1\" class=\"dataframe\">\n",
       "  <thead>\n",
       "    <tr style=\"text-align: right;\">\n",
       "      <th></th>\n",
       "      <th>post_id</th>\n",
       "      <th>subreddit</th>\n",
       "      <th>title</th>\n",
       "      <th>url</th>\n",
       "      <th>author</th>\n",
       "      <th>score</th>\n",
       "      <th>num_comments</th>\n",
       "      <th>created_utc</th>\n",
       "      <th>selftext</th>\n",
       "      <th>permalink</th>\n",
       "      <th>ts</th>\n",
       "    </tr>\n",
       "  </thead>\n",
       "  <tbody>\n",
       "    <tr>\n",
       "      <th>9305</th>\n",
       "      <td>9306</td>\n",
       "      <td>cornell</td>\n",
       "      <td>Coronavirus Mega-thread</td>\n",
       "      <td>https://www.reddit.com/r/Cornell/comments/fg0b...</td>\n",
       "      <td>VeritasEngineer</td>\n",
       "      <td>135</td>\n",
       "      <td>197</td>\n",
       "      <td>1583782397</td>\n",
       "      <td>#Want to help? Please [check out this post](ht...</td>\n",
       "      <td>/r/Cornell/comments/fg0bh8/coronavirus_megathr...</td>\n",
       "      <td>2024-07-10 10:43:17</td>\n",
       "    </tr>\n",
       "    <tr>\n",
       "      <th>9512</th>\n",
       "      <td>9513</td>\n",
       "      <td>cornell</td>\n",
       "      <td>As more comes out about Patrick Dai and his me...</td>\n",
       "      <td>https://www.reddit.com/r/Cornell/comments/17qs...</td>\n",
       "      <td>Different-Constant3</td>\n",
       "      <td>423</td>\n",
       "      <td>132</td>\n",
       "      <td>1699468465</td>\n",
       "      <td>What Patrick Dai did was utterly reprehensible...</td>\n",
       "      <td>/r/Cornell/comments/17qs7vz/as_more_comes_out_...</td>\n",
       "      <td>2024-07-10 11:22:32</td>\n",
       "    </tr>\n",
       "  </tbody>\n",
       "</table>\n",
       "</div>"
      ],
      "text/plain": [
       "      post_id subreddit                                              title  \\\n",
       "9305     9306   cornell                            Coronavirus Mega-thread   \n",
       "9512     9513   cornell  As more comes out about Patrick Dai and his me...   \n",
       "\n",
       "                                                    url               author  \\\n",
       "9305  https://www.reddit.com/r/Cornell/comments/fg0b...      VeritasEngineer   \n",
       "9512  https://www.reddit.com/r/Cornell/comments/17qs...  Different-Constant3   \n",
       "\n",
       "      score  num_comments  created_utc  \\\n",
       "9305    135           197   1583782397   \n",
       "9512    423           132   1699468465   \n",
       "\n",
       "                                               selftext  \\\n",
       "9305  #Want to help? Please [check out this post](ht...   \n",
       "9512  What Patrick Dai did was utterly reprehensible...   \n",
       "\n",
       "                                              permalink                   ts  \n",
       "9305  /r/Cornell/comments/fg0bh8/coronavirus_megathr...  2024-07-10 10:43:17  \n",
       "9512  /r/Cornell/comments/17qs7vz/as_more_comes_out_...  2024-07-10 11:22:32  "
      ]
     },
     "execution_count": 20,
     "metadata": {},
     "output_type": "execute_result"
    }
   ],
   "source": [
    "lengths = []\n",
    "for id in posts_df['post_id']:\n",
    "    # print(\n",
    "    #     id,\n",
    "    #     posts_df[posts_df[\"post_id\"] == id][\"title\"].values[0],\n",
    "    #     len(comments_df[comments_df[\"post_id\"] == id]),\n",
    "    # )\n",
    "    lengths.append(len(comments_df[comments_df[\"post_id\"] == id]))\n",
    "posts_df[posts_df['num_comments'] > 100]"
   ]
  }
 ],
 "metadata": {
  "kernelspec": {
   "display_name": "Python 3",
   "language": "python",
   "name": "python3"
  },
  "language_info": {
   "codemirror_mode": {
    "name": "ipython",
    "version": 3
   },
   "file_extension": ".py",
   "mimetype": "text/x-python",
   "name": "python",
   "nbconvert_exporter": "python",
   "pygments_lexer": "ipython3",
   "version": "3.11.9"
  }
 },
 "nbformat": 4,
 "nbformat_minor": 2
}
