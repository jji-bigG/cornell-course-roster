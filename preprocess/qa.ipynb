{
 "cells": [
  {
   "cell_type": "code",
   "execution_count": 2,
   "metadata": {},
   "outputs": [
    {
     "name": "stdout",
     "output_type": "stream",
     "text": [
      "Here are some names for a flower shop specializing in dried flowers, playing on different themes:\n",
      "\n",
      "**Simple & Elegant:**\n",
      "\n",
      "* Bloom & Preserve\n",
      "* The Dried Bouquet\n",
      "* Everlasting Blooms\n",
      "* Timeless Flowers\n",
      "* The Bloom Archive\n",
      "\n",
      "**Whimsical & Romantic:**\n",
      "\n",
      "* Whispers of Wildflowers\n",
      "* Sun-Kissed Blooms\n",
      "* The Paper Petal\n",
      "* Dried Dreams\n",
      "* Forever in Bloom\n",
      "\n",
      "**Modern & Minimalist:**\n",
      "\n",
      "* Bloom & Co.\n",
      "* Botanical & Co.\n",
      "* The Dried Flower Bar\n",
      "* Bloom Lab\n",
      "* The Wild Bloom\n",
      "\n",
      "**Location-Specific:**\n",
      "\n",
      "* [Your City] Dried Blooms\n",
      "* [Your Street] Flower Co.\n",
      "* [Local Landmark] Blooms\n",
      "\n",
      "**Other Ideas:**\n",
      "\n",
      "* The Herbarium\n",
      "* The Botanical Studio\n",
      "* The Dried Flower Gallery\n",
      "* The Flower Alchemist\n",
      "* The Bloom Preserve\n",
      "\n",
      "**Tips for Choosing a Name:**\n",
      "\n",
      "* **Consider your target audience:** Who are you trying to attract?\n",
      "* **Keep it memorable and easy to pronounce:**  A catchy name will stick in people's minds.\n",
      "* **Make sure the name is available:** Check if the domain name and social media handles are available.\n",
      "* **Reflect your brand personality:** Choose a name that reflects the aesthetic and vibe you want to create. \n",
      "\n",
      "Good luck finding the perfect name for your shop! \n",
      "\n"
     ]
    }
   ],
   "source": [
    "# %pip install vertexai\n",
    "import vertexai\n",
    "from vertexai.generative_models import GenerativeModel\n",
    "\n",
    "vertexai.init(project=\"talk-to-a-local-427009\", location=\"us-central1\")\n",
    "\n",
    "model = GenerativeModel(model_name=\"gemini-1.5-flash-001\")\n",
    "\n",
    "response = model.generate_content(\n",
    "    \"What's a good name for a flower shop that specializes in selling bouquets of dried flowers?\"\n",
    ")\n",
    "\n",
    "print(response.text)"
   ]
  },
  {
   "cell_type": "code",
   "execution_count": 2,
   "metadata": {},
   "outputs": [],
   "source": [
    "from openai import AsyncOpenAI\n",
    "import json\n",
    "\n",
    "keys = json.load(open(\"secrets.json\"))\n",
    "\n",
    "client = AsyncOpenAI(\n",
    "    base_url=\"http://101.35.52.226:9090/v1\",\n",
    "    api_key=keys['api_key'],\n",
    "    timeout=45,\n",
    ")\n",
    "\n",
    "\n",
    "async def chat(prompt, stream=False, temperature=0.0, n=1):\n",
    "    response = await client.chat.completions.create(\n",
    "        model=\"qwen-110b-chat\",\n",
    "        messages=[{\"role\": \"user\", \"content\": prompt}],\n",
    "        stream=stream,\n",
    "        max_tokens=512,\n",
    "        temperature=temperature,\n",
    "        n=n,\n",
    "        stop=[\"<|endoftext|>\", \"<|im_end|>\"],\n",
    "    )\n",
    "    if not stream:\n",
    "        if n == 1:\n",
    "            return response.choices[0].message.content.strip()\n",
    "        return response.choices\n",
    "    return response"
   ]
  }
 ],
 "metadata": {
  "kernelspec": {
   "display_name": "Python 3",
   "language": "python",
   "name": "python3"
  },
  "language_info": {
   "codemirror_mode": {
    "name": "ipython",
    "version": 3
   },
   "file_extension": ".py",
   "mimetype": "text/x-python",
   "name": "python",
   "nbconvert_exporter": "python",
   "pygments_lexer": "ipython3",
   "version": "3.11.9"
  }
 },
 "nbformat": 4,
 "nbformat_minor": 2
}
