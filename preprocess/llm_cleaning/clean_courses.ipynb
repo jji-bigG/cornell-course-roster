{
 "cells": [
  {
   "cell_type": "code",
   "execution_count": 38,
   "metadata": {},
   "outputs": [],
   "source": [
    "import pandas as pd\n",
    "\n",
    "course_descriptions_df = pd.read_json('llm_course_descriptions.jsonl', lines=True)\n",
    "\n",
    "import sqlite3\n",
    "\n",
    "conn = sqlite3.connect('roster_reviews.sqlite.db')\n",
    "\n",
    "descriptions = pd.read_sql_query(\"SELECT * FROM course_descriptions\", conn)\n",
    "courses = pd.read_sql_query(\"SELECT * FROM courses\", conn)\n",
    "\n",
    "conn.close()"
   ]
  },
  {
   "cell_type": "code",
   "execution_count": 36,
   "metadata": {},
   "outputs": [
    {
     "name": "stdout",
     "output_type": "stream",
     "text": [
      "{\n",
      "  \"perceived_prerequisites\": [\"Basic understanding of world history\", \"Interest in comparative literature\", \"Familiarity with reading literary texts\"],\n",
      "  \"contents\": [\"Exploration of Near East literature from ancient to modern times\", \"Analysis of \"The Story of Sinuhe\", \"The Epic of Gilgamesh\", \"Hebrew Bible, New Testament, Qur'an\", \"Ibn Battuta's \"Travels\", \"Shahnameh\", \"The Arabian Nights\", \"Modern works by Orhan Pamuk and Sonia Nimr\", \"Rare books and manuscript study\"],\n",
      "  \"outcomes\": [\"Ability to analyze diverse literary traditions\", \"Understanding of cultural exchanges in the Near East\", \"Enhanced critical thinking through comparative analysis\", \"Familiarity with primary sources and research techniques\", \"Appreciation for the influence of Near Eastern literature on global culture\"],\n",
      "  \"hard_written_prerequisites\": [],\n",
      "  \"distributions\": [\"ALC-AS\", \"CA-AG\", \"LA-AG\"],\n",
      "  \"combined_with\": [\"COML 2754\", \"ENGL 2754\", \"JWST 2754\", \"SHUM 2754\"]\n",
      "}\n"
     ]
    },
    {
     "data": {
      "text/plain": [
       "(None,\n",
       " course_id                                                10813\n",
       " semester                                                  FA24\n",
       " response     {\\n  \"perceived_prerequisites\": [\"Basic unders...\n",
       " Name: 14061, dtype: object)"
      ]
     },
     "execution_count": 36,
     "metadata": {},
     "output_type": "execute_result"
    }
   ],
   "source": [
    "abnormal = course_descriptions_df[\n",
    "    course_descriptions_df[\"response\"].apply(lambda x: type(x) == str)\n",
    "]\n",
    "\n",
    "print(list(abnormal[\"response\"])[1]), abnormal.iloc[1]"
   ]
  },
  {
   "cell_type": "code",
   "execution_count": 37,
   "metadata": {},
   "outputs": [
    {
     "data": {
      "text/plain": [
       "''"
      ]
     },
     "execution_count": 37,
     "metadata": {},
     "output_type": "execute_result"
    }
   ],
   "source": [
    "abnormal  # 4011 14061 14655\n",
    "\n",
    "descriptions.iloc[10813][\"combined_with\"]"
   ]
  },
  {
   "cell_type": "code",
   "execution_count": 60,
   "metadata": {},
   "outputs": [],
   "source": [
    "# given a course, traverse through all of its prereqs\n",
    "def get_course_id_from_name(course_name):\n",
    "    return courses[courses[\"name\"] == course_name][\"course_id\"].values[0]\n",
    "\n",
    "id = get_course_id_from_name(\"ARCH 3497\")\n",
    "id = 1\n",
    "lst = course_descriptions_df[course_descriptions_df[\"course_id\"] == id][\"response\"].values[0][\n",
    "    \"hard_written_prerequisites\"\n",
    "]\n",
    "\n",
    "cleaned_lst = []\n",
    "for l in lst:\n",
    "    dep = l.split(\" \")[0]\n",
    "    code = l.split(\" \")[1]\n",
    "    cleaned_lst.append((dep, code))\n",
    "\n",
    "for d, c in cleaned_lst:\n",
    "    print(f\"{d} {c}\")"
   ]
  }
 ],
 "metadata": {
  "kernelspec": {
   "display_name": "Python 3",
   "language": "python",
   "name": "python3"
  },
  "language_info": {
   "codemirror_mode": {
    "name": "ipython",
    "version": 3
   },
   "file_extension": ".py",
   "mimetype": "text/x-python",
   "name": "python",
   "nbconvert_exporter": "python",
   "pygments_lexer": "ipython3",
   "version": "3.11.9"
  }
 },
 "nbformat": 4,
 "nbformat_minor": 2
}
