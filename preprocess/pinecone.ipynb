{
 "cells": [
  {
   "cell_type": "code",
   "execution_count": 2,
   "metadata": {},
   "outputs": [
    {
     "name": "stdout",
     "output_type": "stream",
     "text": [
      "Collecting pinecone-client\n",
      "  Downloading pinecone_client-4.1.2-py3-none-any.whl.metadata (16 kB)\n",
      "Requirement already satisfied: certifi>=2019.11.17 in /Users/jiruiyang/dev/cornell-course-roster/.conda/lib/python3.11/site-packages (from pinecone-client) (2024.6.2)\n",
      "Collecting pinecone-plugin-interface<0.0.8,>=0.0.7 (from pinecone-client)\n",
      "  Downloading pinecone_plugin_interface-0.0.7-py3-none-any.whl.metadata (1.2 kB)\n",
      "Requirement already satisfied: tqdm>=4.64.1 in /Users/jiruiyang/dev/cornell-course-roster/.conda/lib/python3.11/site-packages (from pinecone-client) (4.66.4)\n",
      "Requirement already satisfied: typing-extensions>=3.7.4 in /Users/jiruiyang/dev/cornell-course-roster/.conda/lib/python3.11/site-packages (from pinecone-client) (4.12.2)\n",
      "Requirement already satisfied: urllib3>=1.26.0 in /Users/jiruiyang/dev/cornell-course-roster/.conda/lib/python3.11/site-packages (from pinecone-client) (2.2.2)\n",
      "Downloading pinecone_client-4.1.2-py3-none-any.whl (216 kB)\n",
      "\u001b[2K   \u001b[90m━━━━━━━━━━━━━━━━━━━━━━━━━━━━━━━━━━━━━━━\u001b[0m \u001b[32m216.4/216.4 kB\u001b[0m \u001b[31m390.2 kB/s\u001b[0m eta \u001b[36m0:00:00\u001b[0ma \u001b[36m0:00:01\u001b[0m\n",
      "\u001b[?25hDownloading pinecone_plugin_interface-0.0.7-py3-none-any.whl (6.2 kB)\n",
      "Installing collected packages: pinecone-plugin-interface, pinecone-client\n",
      "Successfully installed pinecone-client-4.1.2 pinecone-plugin-interface-0.0.7\n"
     ]
    }
   ],
   "source": [
    "! pip install pinecone-client"
   ]
  },
  {
   "cell_type": "markdown",
   "metadata": {},
   "source": [
    "### Exploring Pinecone\n",
    "- Pinecone is a vector database that allows you to store, retrieve, and search high-dimensional vectors.\n",
    "\n",
    "We will explore the Pinecone API and see how we can push our data to their servers.\n",
    "\n",
    "##### GOAL: GraphRAG + Pinecone\n",
    "Use GraphRAG techniques along with Pinecone's APIs. Hopefully that works!"
   ]
  }
 ],
 "metadata": {
  "kernelspec": {
   "display_name": "Python 3",
   "language": "python",
   "name": "python3"
  },
  "language_info": {
   "codemirror_mode": {
    "name": "ipython",
    "version": 3
   },
   "file_extension": ".py",
   "mimetype": "text/x-python",
   "name": "python",
   "nbconvert_exporter": "python",
   "pygments_lexer": "ipython3",
   "version": "3.11.9"
  }
 },
 "nbformat": 4,
 "nbformat_minor": 2
}
