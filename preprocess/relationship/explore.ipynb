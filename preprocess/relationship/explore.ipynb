{
 "cells": [
  {
   "cell_type": "code",
   "execution_count": 6,
   "metadata": {},
   "outputs": [],
   "source": [
    "import pandas as pd\n",
    "\n",
    "course_descriptions_df = pd.read_json(\"llm_course_descriptions.jsonl\", lines=True)\n",
    "course_descriptions_infer_df = pd.read_json(\n",
    "    \"llm_course_descriptions-inference.jsonl\", lines=True\n",
    ")\n",
    "\n",
    "\n",
    "def get_course_id_from_name(course_name):\n",
    "    return courses[courses[\"name\"] == course_name][\"course_id\"].values[0]\n",
    "\n",
    "\n",
    "import sqlite3\n",
    "\n",
    "conn = sqlite3.connect(\"roster_reviews.sqlite.db\")\n",
    "\n",
    "descriptions = pd.read_sql_query(\"SELECT * FROM course_descriptions\", conn)\n",
    "courses = pd.read_sql_query(\"SELECT * FROM courses\", conn)\n",
    "\n",
    "conn.close()"
   ]
  },
  {
   "cell_type": "code",
   "execution_count": 8,
   "metadata": {},
   "outputs": [
    {
     "data": {
      "text/plain": [
       "1"
      ]
     },
     "execution_count": 8,
     "metadata": {},
     "output_type": "execute_result"
    }
   ],
   "source": [
    "test_id = get_course_id_from_name(\"AAP 1100\")\n",
    "course_id = test_id\n",
    "\n",
    "len(\n",
    "    course_descriptions_infer_df[\n",
    "        course_descriptions_infer_df[\"course_id\"] == course_id\n",
    "    ][\"response\"].values\n",
    ")\n",
    "\n",
    "\n",
    "def get_pre_reqs_from_id(id):\n",
    "    for c in course_descriptions_df[course_descriptions_df[\"course_id\"] == id][\n",
    "        \"response\"\n",
    "    ].values[0][\"hard_written_prerequisites\"]:\n",
    "        d = c.split(\" \")[0]\n",
    "        code = c.split(\" \")[1]\n",
    "        yield f\"{d} {code}\"\n",
    "\n",
    "\n",
    "def get_all_pre_reqs(id):\n",
    "    frontier = set([id])\n",
    "    visited = set()\n",
    "    while frontier:\n",
    "        current = frontier.pop()\n",
    "        visited.add(current)\n",
    "        for pre_req in get_pre_reqs_from_id(current):\n",
    "            pre_req_id = get_course_id_from_name(pre_req)\n",
    "            if pre_req_id not in visited:\n",
    "                frontier.add(pre_req_id)\n",
    "    return reversed(list(visited))"
   ]
  }
 ],
 "metadata": {
  "kernelspec": {
   "display_name": "Python 3",
   "language": "python",
   "name": "python3"
  },
  "language_info": {
   "codemirror_mode": {
    "name": "ipython",
    "version": 3
   },
   "file_extension": ".py",
   "mimetype": "text/x-python",
   "name": "python",
   "nbconvert_exporter": "python",
   "pygments_lexer": "ipython3",
   "version": "3.11.9"
  }
 },
 "nbformat": 4,
 "nbformat_minor": 2
}
